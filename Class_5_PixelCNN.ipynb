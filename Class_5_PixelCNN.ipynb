{
  "nbformat": 4,
  "nbformat_minor": 0,
  "metadata": {
    "colab": {
      "provenance": [],
      "machine_shape": "hm",
      "gpuType": "T4",
      "include_colab_link": true
    },
    "kernelspec": {
      "name": "python3",
      "display_name": "Python 3"
    },
    "language_info": {
      "name": "python"
    },
    "accelerator": "GPU"
  },
  "cells": [
    {
      "cell_type": "markdown",
      "metadata": {
        "id": "view-in-github",
        "colab_type": "text"
      },
      "source": [
        "<a href=\"https://colab.research.google.com/github/snl28/HCJ/blob/main/Class_5_PixelCNN.ipynb\" target=\"_parent\"><img src=\"https://colab.research.google.com/assets/colab-badge.svg\" alt=\"Open In Colab\"/></a>"
      ]
    },
    {
      "cell_type": "markdown",
      "source": [],
      "metadata": {
        "id": "oGjyybWyMprg"
      }
    },
    {
      "cell_type": "markdown",
      "source": [
        "# Name: Sunil John\n",
        "## SEAS 8525 Computer Vision and Generative AI\n",
        "## Homework 5\n",
        "\n",
        "\n",
        "PixelCNN takes longer to train because it predicts each pixel one at a time, using all the pixels before it.This makes training slow and hard to parallelize.\n",
        "It also has to learn very detailed patterns across millions of pixels, which needs many epochs and lots of computation to get good results.At 15 epochs, we can expect only basic outlines or random noise, not coherent images.\n"
      ],
      "metadata": {
        "id": "G3aY_VCRVdFF"
      }
    },
    {
      "cell_type": "markdown",
      "source": [
        "Addapted from the [book](https://https://github.com/davidADSP/Generative_Deep_Learning_2nd_Edition/tree/main)"
      ],
      "metadata": {
        "id": "UGFre0zCZGUq"
      }
    },
    {
      "cell_type": "markdown",
      "source": [
        "This code defines two functions:\n",
        "\n",
        "1. `sample_batch(dataset)`:\n",
        "   - Takes a `dataset` object as input.\n",
        "   - Retrieves a single batch from the dataset using `dataset.take(1).get_single_element()`.\n",
        "   - If the batch is a tuple, it extracts the first element of the tuple.\n",
        "   - Returns the batch as a NumPy array using `batch.numpy()`.\n",
        "\n",
        "2. `display(images, n=10, size=(20, 3), cmap=\"gray_r\", as_type=\"float32\", save_to=None)`:\n",
        "   - Takes an array of `images` and optional parameters for display configuration.\n",
        "   - Normalizes the pixel values of the images to the range [0, 1] if the maximum value is greater than 1.0, or to the range [-1, 1] if the minimum value is less than 0.0.\n",
        "   - Creates a figure with a specified size using `plt.figure(figsize=size)`.\n",
        "   - Iterates over `n` random images from the `images` array.\n",
        "   - Displays each image as a subplot using `plt.subplot(1, n, i + 1)` and `plt.imshow()`.\n",
        "   - Applies the specified colormap (`cmap`) and data type (`as_type`) to the displayed images.\n",
        "   - Removes the axis labels and ticks using `plt.axis(\"off\")`.\n",
        "   - If `save_to` is provided, saves the figure to the specified file path and prints a message.\n",
        "   - Finally, shows the plotted images using `plt.show()`.\n"
      ],
      "metadata": {
        "id": "29BPXxk2w1v4"
      }
    },
    {
      "cell_type": "code",
      "source": [
        "def sample_batch(dataset):\n",
        "    batch = dataset.take(1).get_single_element()\n",
        "    if isinstance(batch, tuple):\n",
        "        batch = batch[0]\n",
        "    return batch.numpy()\n",
        "\n",
        "\n",
        "def display(\n",
        "    images, n=10, size=(20, 3), cmap=\"gray_r\", as_type=\"float32\", save_to=None\n",
        "):\n",
        "    \"\"\"\n",
        "    Displays n random images from each one of the supplied arrays.\n",
        "    \"\"\"\n",
        "    if images.max() > 1.0:\n",
        "        images = images / 255.0\n",
        "    elif images.min() < 0.0:\n",
        "        images = (images + 1.0) / 2.0\n",
        "\n",
        "    plt.figure(figsize=size)\n",
        "    for i in range(n):\n",
        "        _ = plt.subplot(1, n, i + 1)\n",
        "        plt.imshow(images[i].astype(as_type), cmap=cmap)\n",
        "        plt.axis(\"off\")\n",
        "\n",
        "    if save_to:\n",
        "        plt.savefig(save_to)\n",
        "        print(f\"\\nSaved to {save_to}\")\n",
        "\n",
        "    plt.show()"
      ],
      "metadata": {
        "id": "tB_v_1Z8ZLKE"
      },
      "execution_count": null,
      "outputs": []
    },
    {
      "cell_type": "code",
      "source": [
        "import numpy as np\n",
        "\n",
        "import tensorflow as tf\n",
        "from tensorflow.keras import datasets, layers, models, optimizers, callbacks\n",
        "import matplotlib.pyplot as plt\n",
        "import matplotlib"
      ],
      "metadata": {
        "id": "Wv6Gj6blZcx4"
      },
      "execution_count": null,
      "outputs": []
    },
    {
      "cell_type": "code",
      "source": [
        "IMAGE_SIZE = 16\n",
        "PIXEL_LEVELS = 4\n",
        "N_FILTERS = 128\n",
        "RESIDUAL_BLOCKS = 5\n",
        "BATCH_SIZE = 128\n",
        "EPOCHS = 15"
      ],
      "metadata": {
        "id": "874FvkprZut1"
      },
      "execution_count": null,
      "outputs": []
    },
    {
      "cell_type": "code",
      "source": [
        "# Load the data\n",
        "(x_train, _), (_, _) = datasets.fashion_mnist.load_data()"
      ],
      "metadata": {
        "id": "rO9yP6K7Zz1-",
        "colab": {
          "base_uri": "https://localhost:8080/"
        },
        "outputId": "97ae6686-452e-41cb-b005-9b0781ba5917"
      },
      "execution_count": null,
      "outputs": [
        {
          "output_type": "stream",
          "name": "stdout",
          "text": [
            "Downloading data from https://storage.googleapis.com/tensorflow/tf-keras-datasets/train-labels-idx1-ubyte.gz\n",
            "\u001b[1m29515/29515\u001b[0m \u001b[32m━━━━━━━━━━━━━━━━━━━━\u001b[0m\u001b[37m\u001b[0m \u001b[1m0s\u001b[0m 0us/step\n",
            "Downloading data from https://storage.googleapis.com/tensorflow/tf-keras-datasets/train-images-idx3-ubyte.gz\n",
            "\u001b[1m26421880/26421880\u001b[0m \u001b[32m━━━━━━━━━━━━━━━━━━━━\u001b[0m\u001b[37m\u001b[0m \u001b[1m0s\u001b[0m 0us/step\n",
            "Downloading data from https://storage.googleapis.com/tensorflow/tf-keras-datasets/t10k-labels-idx1-ubyte.gz\n",
            "\u001b[1m5148/5148\u001b[0m \u001b[32m━━━━━━━━━━━━━━━━━━━━\u001b[0m\u001b[37m\u001b[0m \u001b[1m0s\u001b[0m 0us/step\n",
            "Downloading data from https://storage.googleapis.com/tensorflow/tf-keras-datasets/t10k-images-idx3-ubyte.gz\n",
            "\u001b[1m4422102/4422102\u001b[0m \u001b[32m━━━━━━━━━━━━━━━━━━━━\u001b[0m\u001b[37m\u001b[0m \u001b[1m0s\u001b[0m 0us/step\n"
          ]
        }
      ]
    },
    {
      "cell_type": "code",
      "source": [
        "# Preprocess the data\n",
        "def preprocess(imgs_int):\n",
        "    imgs_int = np.expand_dims(imgs_int, -1)\n",
        "    imgs_int = tf.image.resize(imgs_int, (IMAGE_SIZE, IMAGE_SIZE)).numpy()\n",
        "    imgs_int = (imgs_int / (256 / PIXEL_LEVELS)).astype(int)\n",
        "    imgs = imgs_int.astype(\"float32\")\n",
        "    imgs = imgs / PIXEL_LEVELS\n",
        "    return imgs, imgs_int\n",
        "\n",
        "\n",
        "input_data, output_data = preprocess(x_train)"
      ],
      "metadata": {
        "id": "Y5aSDj2wZ327"
      },
      "execution_count": null,
      "outputs": []
    },
    {
      "cell_type": "code",
      "source": [
        "# Show some items of clothing from the training set\n",
        "display(input_data)"
      ],
      "metadata": {
        "colab": {
          "base_uri": "https://localhost:8080/",
          "height": 120
        },
        "id": "0epMINbyZ8Fj",
        "outputId": "44ecb967-e5df-4078-dc57-1cc9cfd89fe0"
      },
      "execution_count": null,
      "outputs": [
        {
          "output_type": "display_data",
          "data": {
            "text/plain": [
              "<Figure size 2000x300 with 10 Axes>"
            ],
            "image/png": "[encoded data removed]"
          },
          "metadata": {}
        }
      ]
    },
    {
      "cell_type": "markdown",
      "source": [
        "The code in the following cell defines a custom layer called `MaskedConv2D` which extends the functionality of the standard 2D convolutional layer (`layers.Conv2D`) by including masking.\n",
        "\n",
        "\n",
        "\n",
        "1. The `MaskedConv2D` class is defined as a subclass of `layers.Layer`, indicating that it is a custom layer.\n",
        "\n",
        "2. The `__init__` method is the constructor of the class. It takes a `mask_type` parameter and any additional keyword arguments (`**kwargs`). It calls the constructor of the parent class (`super(MaskedConv2D, self).__init__()`) and initializes the `mask_type` attribute. It also creates an instance of `layers.Conv2D` with the provided `**kwargs` and assigns it to the `conv` attribute.\n",
        "\n",
        "3. The `build` method is called when the layer is being built. It first builds the `conv` layer to initialize its kernel variables. Then, it retrieves the shape of the kernel using `self.conv.kernel.get_shape()` and creates a mask tensor (`self.mask`) with the same shape, initialized with zeros.\n",
        "\n",
        "4. Depending on the `mask_type`, the mask is populated with ones in specific regions:\n",
        "   - For the upper half of the kernel (excluding the center row), the mask values are set to 1.0.\n",
        "   - For the left half of the center row (including the center pixel), the mask values are set to 1.0.\n",
        "   - If the `mask_type` is \"B\", the center pixel of the kernel is also set to 1.0.\n",
        "\n",
        "5. The `call` method is invoked when the layer is called with an input tensor. It multiplies the `conv` layer's kernel with the mask using element-wise multiplication (`self.conv.kernel * self.mask`). This effectively applies the mask to the kernel, zeroing out the desired regions. Then, it calls the `conv` layer with the masked kernel and returns the output.\n",
        "\n",
        "6. The `get_config` method is used to retrieve the configuration of the layer. In this case, it simply calls the `get_config` method of the parent class and returns the configuration.\n",
        "\n",
        "The purpose of this `MaskedConv2D` layer is to apply a mask to the convolutional kernel, allowing only certain regions of the kernel to be active during the convolution operation. This is particularly useful in architectures like PixelCNN, where the masking ensures that each pixel in the output depends only on the pixels above and to the left of it in the input, following a specific order."
      ],
      "metadata": {
        "id": "PCw1KKTFxazf"
      }
    },
    {
      "cell_type": "code",
      "source": [
        "class MaskedConv2D(layers.Layer):\n",
        "    def __init__(self, mask_type, **kwargs):\n",
        "        super(MaskedConv2D, self).__init__()\n",
        "        self.mask_type = mask_type\n",
        "        self.conv = layers.Conv2D(**kwargs)\n",
        "\n",
        "    def build(self, input_shape):\n",
        "        # Build the conv2d layer to initialize kernel variables\n",
        "        self.conv.build(input_shape)\n",
        "        # Use the initialized kernel to create the mask\n",
        "        kernel_shape = self.conv.kernel.shape # Changed to .shape\n",
        "        self.mask = np.zeros(shape=kernel_shape)\n",
        "        self.mask[: kernel_shape[0] // 2, ...] = 1.0\n",
        "        self.mask[kernel_shape[0] // 2, : kernel_shape[1] // 2, ...] = 1.0\n",
        "        if self.mask_type == \"B\":\n",
        "            self.mask[kernel_shape[0] // 2, kernel_shape[1] // 2, ...] = 1.0\n",
        "\n",
        "    def call(self, inputs):\n",
        "        self.conv.kernel.assign(self.conv.kernel * self.mask)\n",
        "        return self.conv(inputs)\n",
        "\n",
        "    def get_config(self):\n",
        "        cfg = super().get_config()\n",
        "        return cfg"
      ],
      "metadata": {
        "id": "meQR1erEZ_j3"
      },
      "execution_count": null,
      "outputs": []
    },
    {
      "cell_type": "markdown",
      "source": [
        "The code in the following cell defines a custom layer called `ResidualBlock` which implements a residual block architecture commonly used in deep neural networks. Residual blocks allow the network to learn residual functions and facilitate the training of deep networks by alleviating the vanishing gradient problem.\n",
        "\n",
        "\n",
        "1. The `ResidualBlock` class is defined as a subclass of `layers.Layer`, indicating that it is a custom layer.\n",
        "\n",
        "2. The `__init__` method is the constructor of the class. It takes a `filters` parameter, which determines the number of filters in the convolutional layers, and any additional keyword arguments (`**kwargs`). It calls the constructor of the parent class (`super(ResidualBlock, self).__init__(**kwargs)`).\n",
        "\n",
        "3. Inside the constructor, three convolutional layers are defined:\n",
        "   - `self.conv1`: A standard 2D convolutional layer (`layers.Conv2D`) with `filters // 2` filters (half the input filters), kernel size of 1, and ReLU activation.\n",
        "   - `self.pixel_conv`: An instance of the `MaskedConv2D` layer (defined in the previous code snippet) with mask type \"B\", `filters // 2` filters (half the input filters), kernel size of 3, ReLU activation, and \"same\" padding.\n",
        "   - `self.conv2`: Another standard 2D convolutional layer with `filters` filters (same as the input filters), kernel size of 1, and ReLU activation.\n",
        "\n",
        "4. The `call` method is invoked when the layer is called with an input tensor. It defines the forward pass of the residual block:\n",
        "   - The input tensor is passed through `self.conv1`, followed by `self.pixel_conv`, and then `self.conv2`.\n",
        "   - The output of `self.conv2` is added element-wise to the original input tensor using `layers.add([inputs, x])`, creating the residual connection.\n",
        "   - The result of the element-wise addition is returned as the output of the residual block.\n",
        "\n",
        "5. The `get_config` method is used to retrieve the configuration of the layer. In this case, it simply calls the `get_config` method of the parent class and returns the configuration.\n",
        "\n",
        "The purpose of this `ResidualBlock` is to learn residual functions by allowing the network to pass information from the input directly to the output through the residual connection. The block consists of two branches:\n",
        "- The main branch applies a series of convolutional operations (conv1 → pixel_conv → conv2) to the input.\n",
        "- The residual branch simply passes the input directly to the output.\n",
        "\n",
        "The outputs of both branches are then added element-wise, enabling the network to learn the residual function. This residual connection helps in training deep networks by allowing the gradients to flow more easily through the network, mitigating the vanishing gradient problem.\n",
        "\n",
        "The `MaskedConv2D` layer used in the `pixel_conv` ensures that the convolution operation follows a specific masking pattern, which is useful in a PixelCNN."
      ],
      "metadata": {
        "id": "RIn7M8rWyCPG"
      }
    },
    {
      "cell_type": "code",
      "source": [
        "class ResidualBlock(layers.Layer):\n",
        "    def __init__(self, filters, **kwargs):\n",
        "        super(ResidualBlock, self).__init__(**kwargs)\n",
        "        self.conv1 = layers.Conv2D(\n",
        "            filters=filters // 2, kernel_size=1, activation=\"relu\"\n",
        "        )\n",
        "        self.pixel_conv = MaskedConv2D(\n",
        "            mask_type=\"B\",\n",
        "            filters=filters // 2,\n",
        "            kernel_size=3,\n",
        "            activation=\"relu\",\n",
        "            padding=\"same\",\n",
        "        )\n",
        "        self.conv2 = layers.Conv2D(\n",
        "            filters=filters, kernel_size=1, activation=\"relu\"\n",
        "        )\n",
        "\n",
        "    def call(self, inputs):\n",
        "        x = self.conv1(inputs)\n",
        "        x = self.pixel_conv(x)\n",
        "        x = self.conv2(x)\n",
        "        return layers.add([inputs, x])\n",
        "\n",
        "    def get_config(self):\n",
        "        cfg = super().get_config()\n",
        "        return cfg"
      ],
      "metadata": {
        "id": "K0wjJ_kJaDrq"
      },
      "execution_count": null,
      "outputs": []
    },
    {
      "cell_type": "markdown",
      "source": [
        "The code below defines the architecture of a PixelCNN model using the Keras functional API.\n",
        "\n",
        "1. `inputs = layers.Input(shape=(IMAGE_SIZE, IMAGE_SIZE, 1))`:\n",
        "   - This line defines the input layer of the model using `layers.Input`.\n",
        "   - The input shape is specified as `(IMAGE_SIZE, IMAGE_SIZE, 1)`, indicating that the input images have a height and width of `IMAGE_SIZE` and a single channel (grayscale).\n",
        "\n",
        "2. `x = MaskedConv2D(mask_type=\"A\", filters=N_FILTERS, kernel_size=7, activation=\"relu\", padding=\"same\")(inputs)`:\n",
        "   - The input tensor is passed through a `MaskedConv2D` layer with mask type \"A\", `N_FILTERS` filters, a kernel size of 7, ReLU activation, and \"same\" padding.\n",
        "   - This layer applies a masked convolution operation to the input, allowing the model to capture local dependencies.\n",
        "\n",
        "3. `for _ in range(RESIDUAL_BLOCKS): x = ResidualBlock(filters=N_FILTERS)(x)`:\n",
        "   - This loop creates a stack of `RESIDUAL_BLOCKS` residual blocks.\n",
        "   - Each residual block is created using the `ResidualBlock` layer defined in the previous code snippet, with `N_FILTERS` filters.\n",
        "   - The output of each residual block is assigned back to `x`, forming a deep residual network.\n",
        "\n",
        "4. `for _ in range(2): x = MaskedConv2D(mask_type=\"B\", filters=N_FILTERS, kernel_size=1, strides=1, activation=\"relu\", padding=\"valid\")(x)`:\n",
        "   - This loop applies two additional `MaskedConv2D` layers with mask type \"B\", `N_FILTERS` filters, a kernel size of 1, stride of 1, ReLU activation, and \"valid\" padding.\n",
        "   - These layers further process the output of the residual blocks.\n",
        "\n",
        "5. `out = layers.Conv2D(filters=PIXEL_LEVELS, kernel_size=1, strides=1, activation=\"softmax\", padding=\"valid\")(x)`:\n",
        "   - The final layer is a standard 2D convolutional layer (`layers.Conv2D`) with `PIXEL_LEVELS` filters, a kernel size of 1, stride of 1, softmax activation, and \"valid\" padding.\n",
        "   - This layer produces the output of the model, representing the probability distribution over the pixel values.\n",
        "\n",
        "6. `pixel_cnn = models.Model(inputs, out)`:\n",
        "   - The `pixel_cnn` model is created using `models.Model`, specifying the input tensor (`inputs`) and the output tensor (`out`).\n",
        "   - This defines the complete PixelCNN model architecture.\n",
        "\n",
        "7. `pixel_cnn.summary()`:\n",
        "   - This line prints a summary of the PixelCNN model architecture, displaying the layers, their output shapes, and the number of parameters in each layer.\n",
        "\n",
        "The resulting `pixel_cnn` model is a deep convolutional neural network that learns to generate images pixel by pixel. The architecture consists of a stack of masked convolutional layers and residual blocks, which capture the dependencies between pixels and allow the model to generate coherent and realistic images.\n",
        "\n",
        "The use of masked convolutions ensures that the model follows a specific order in generating pixels, where each pixel depends only on the pixels above and to the left of it in the image."
      ],
      "metadata": {
        "id": "f0KkgkO7ypJt"
      }
    },
    {
      "cell_type": "code",
      "source": [
        "inputs = layers.Input(shape=(IMAGE_SIZE, IMAGE_SIZE, 1))\n",
        "x = MaskedConv2D(\n",
        "    mask_type=\"A\",\n",
        "    filters=N_FILTERS,\n",
        "    kernel_size=7,\n",
        "    activation=\"relu\",\n",
        "    padding=\"same\",\n",
        ")(inputs)\n",
        "\n",
        "for _ in range(RESIDUAL_BLOCKS):\n",
        "    x = ResidualBlock(filters=N_FILTERS)(x)\n",
        "\n",
        "for _ in range(2):\n",
        "    x = MaskedConv2D(\n",
        "        mask_type=\"B\",\n",
        "        filters=N_FILTERS,\n",
        "        kernel_size=1,\n",
        "        strides=1,\n",
        "        activation=\"relu\",\n",
        "        padding=\"valid\",\n",
        "    )(x)\n",
        "\n",
        "out = layers.Conv2D(\n",
        "    filters=PIXEL_LEVELS,\n",
        "    kernel_size=1,\n",
        "    strides=1,\n",
        "    activation=\"softmax\",\n",
        "    padding=\"valid\",\n",
        ")(x)\n",
        "\n",
        "pixel_cnn = models.Model(inputs, out)\n",
        "pixel_cnn.summary()"
      ],
      "metadata": {
        "colab": {
          "base_uri": "https://localhost:8080/",
          "height": 544
        },
        "id": "q9YeRsKiaLXS",
        "outputId": "125c7349-548e-41a7-a561-ae9c35cd8a3a"
      },
      "execution_count": null,
      "outputs": [
        {
          "output_type": "display_data",
          "data": {
            "text/plain": [
              "\u001b[1mModel: \"functional\"\u001b[0m\n"
            ],
            "text/html": [
              "<pre style=\"white-space:pre;overflow-x:auto;line-height:normal;font-family:Menlo,'DejaVu Sans Mono',consolas,'Courier New',monospace\"><span style=\"font-weight: bold\">Model: \"functional\"</span>\n",
              "</pre>\n"
            ]
          },
          "metadata": {}
        },
        {
          "output_type": "display_data",
          "data": {
            "text/plain": [
              "┏━━━━━━━━━━━━━━━━━━━━━━━━━━━━━━━━━┳━━━━━━━━━━━━━━━━━━━━━━━━┳━━━━━━━━━━━━━━━┓\n",
              "┃\u001b[1m \u001b[0m\u001b[1mLayer (type)                   \u001b[0m\u001b[1m \u001b[0m┃\u001b[1m \u001b[0m\u001b[1mOutput Shape          \u001b[0m\u001b[1m \u001b[0m┃\u001b[1m \u001b[0m\u001b[1m      Param #\u001b[0m\u001b[1m \u001b[0m┃\n",
              "┡━━━━━━━━━━━━━━━━━━━━━━━━━━━━━━━━━╇━━━━━━━━━━━━━━━━━━━━━━━━╇━━━━━━━━━━━━━━━┩\n",
              "│ input_layer (\u001b[38;5;33mInputLayer\u001b[0m)        │ (\u001b[38;5;45mNone\u001b[0m, \u001b[38;5;34m16\u001b[0m, \u001b[38;5;34m16\u001b[0m, \u001b[38;5;34m1\u001b[0m)      │             \u001b[38;5;34m0\u001b[0m │\n",
              "├─────────────────────────────────┼────────────────────────┼───────────────┤\n",
              "│ masked_conv2d (\u001b[38;5;33mMaskedConv2D\u001b[0m)    │ (\u001b[38;5;45mNone\u001b[0m, \u001b[38;5;34m16\u001b[0m, \u001b[38;5;34m16\u001b[0m, \u001b[38;5;34m128\u001b[0m)    │         \u001b[38;5;34m6,400\u001b[0m │\n",
              "├─────────────────────────────────┼────────────────────────┼───────────────┤\n",
              "│ residual_block (\u001b[38;5;33mResidualBlock\u001b[0m)  │ (\u001b[38;5;45mNone\u001b[0m, \u001b[38;5;34m16\u001b[0m, \u001b[38;5;34m16\u001b[0m, \u001b[38;5;34m128\u001b[0m)    │        \u001b[38;5;34m53,504\u001b[0m │\n",
              "├─────────────────────────────────┼────────────────────────┼───────────────┤\n",
              "│ residual_block_1                │ (\u001b[38;5;45mNone\u001b[0m, \u001b[38;5;34m16\u001b[0m, \u001b[38;5;34m16\u001b[0m, \u001b[38;5;34m128\u001b[0m)    │        \u001b[38;5;34m53,504\u001b[0m │\n",
              "│ (\u001b[38;5;33mResidualBlock\u001b[0m)                 │                        │               │\n",
              "├─────────────────────────────────┼────────────────────────┼───────────────┤\n",
              "│ residual_block_2                │ (\u001b[38;5;45mNone\u001b[0m, \u001b[38;5;34m16\u001b[0m, \u001b[38;5;34m16\u001b[0m, \u001b[38;5;34m128\u001b[0m)    │        \u001b[38;5;34m53,504\u001b[0m │\n",
              "│ (\u001b[38;5;33mResidualBlock\u001b[0m)                 │                        │               │\n",
              "├─────────────────────────────────┼────────────────────────┼───────────────┤\n",
              "│ residual_block_3                │ (\u001b[38;5;45mNone\u001b[0m, \u001b[38;5;34m16\u001b[0m, \u001b[38;5;34m16\u001b[0m, \u001b[38;5;34m128\u001b[0m)    │        \u001b[38;5;34m53,504\u001b[0m │\n",
              "│ (\u001b[38;5;33mResidualBlock\u001b[0m)                 │                        │               │\n",
              "├─────────────────────────────────┼────────────────────────┼───────────────┤\n",
              "│ residual_block_4                │ (\u001b[38;5;45mNone\u001b[0m, \u001b[38;5;34m16\u001b[0m, \u001b[38;5;34m16\u001b[0m, \u001b[38;5;34m128\u001b[0m)    │        \u001b[38;5;34m53,504\u001b[0m │\n",
              "│ (\u001b[38;5;33mResidualBlock\u001b[0m)                 │                        │               │\n",
              "├─────────────────────────────────┼────────────────────────┼───────────────┤\n",
              "│ masked_conv2d_6 (\u001b[38;5;33mMaskedConv2D\u001b[0m)  │ (\u001b[38;5;45mNone\u001b[0m, \u001b[38;5;34m16\u001b[0m, \u001b[38;5;34m16\u001b[0m, \u001b[38;5;34m128\u001b[0m)    │        \u001b[38;5;34m16,512\u001b[0m │\n",
              "├─────────────────────────────────┼────────────────────────┼───────────────┤\n",
              "│ masked_conv2d_7 (\u001b[38;5;33mMaskedConv2D\u001b[0m)  │ (\u001b[38;5;45mNone\u001b[0m, \u001b[38;5;34m16\u001b[0m, \u001b[38;5;34m16\u001b[0m, \u001b[38;5;34m128\u001b[0m)    │        \u001b[38;5;34m16,512\u001b[0m │\n",
              "├─────────────────────────────────┼────────────────────────┼───────────────┤\n",
              "│ conv2d_18 (\u001b[38;5;33mConv2D\u001b[0m)              │ (\u001b[38;5;45mNone\u001b[0m, \u001b[38;5;34m16\u001b[0m, \u001b[38;5;34m16\u001b[0m, \u001b[38;5;34m4\u001b[0m)      │           \u001b[38;5;34m516\u001b[0m │\n",
              "└─────────────────────────────────┴────────────────────────┴───────────────┘\n"
            ],
            "text/html": [
              "<pre style=\"white-space:pre;overflow-x:auto;line-height:normal;font-family:Menlo,'DejaVu Sans Mono',consolas,'Courier New',monospace\">┏━━━━━━━━━━━━━━━━━━━━━━━━━━━━━━━━━┳━━━━━━━━━━━━━━━━━━━━━━━━┳━━━━━━━━━━━━━━━┓\n",
              "┃<span style=\"font-weight: bold\"> Layer (type)                    </span>┃<span style=\"font-weight: bold\"> Output Shape           </span>┃<span style=\"font-weight: bold\">       Param # </span>┃\n",
              "┡━━━━━━━━━━━━━━━━━━━━━━━━━━━━━━━━━╇━━━━━━━━━━━━━━━━━━━━━━━━╇━━━━━━━━━━━━━━━┩\n",
              "│ input_layer (<span style=\"color: #0087ff; text-decoration-color: #0087ff\">InputLayer</span>)        │ (<span style=\"color: #00d7ff; text-decoration-color: #00d7ff\">None</span>, <span style=\"color: #00af00; text-decoration-color: #00af00\">16</span>, <span style=\"color: #00af00; text-decoration-color: #00af00\">16</span>, <span style=\"color: #00af00; text-decoration-color: #00af00\">1</span>)      │             <span style=\"color: #00af00; text-decoration-color: #00af00\">0</span> │\n",
              "├─────────────────────────────────┼────────────────────────┼───────────────┤\n",
              "│ masked_conv2d (<span style=\"color: #0087ff; text-decoration-color: #0087ff\">MaskedConv2D</span>)    │ (<span style=\"color: #00d7ff; text-decoration-color: #00d7ff\">None</span>, <span style=\"color: #00af00; text-decoration-color: #00af00\">16</span>, <span style=\"color: #00af00; text-decoration-color: #00af00\">16</span>, <span style=\"color: #00af00; text-decoration-color: #00af00\">128</span>)    │         <span style=\"color: #00af00; text-decoration-color: #00af00\">6,400</span> │\n",
              "├─────────────────────────────────┼────────────────────────┼───────────────┤\n",
              "│ residual_block (<span style=\"color: #0087ff; text-decoration-color: #0087ff\">ResidualBlock</span>)  │ (<span style=\"color: #00d7ff; text-decoration-color: #00d7ff\">None</span>, <span style=\"color: #00af00; text-decoration-color: #00af00\">16</span>, <span style=\"color: #00af00; text-decoration-color: #00af00\">16</span>, <span style=\"color: #00af00; text-decoration-color: #00af00\">128</span>)    │        <span style=\"color: #00af00; text-decoration-color: #00af00\">53,504</span> │\n",
              "├─────────────────────────────────┼────────────────────────┼───────────────┤\n",
              "│ residual_block_1                │ (<span style=\"color: #00d7ff; text-decoration-color: #00d7ff\">None</span>, <span style=\"color: #00af00; text-decoration-color: #00af00\">16</span>, <span style=\"color: #00af00; text-decoration-color: #00af00\">16</span>, <span style=\"color: #00af00; text-decoration-color: #00af00\">128</span>)    │        <span style=\"color: #00af00; text-decoration-color: #00af00\">53,504</span> │\n",
              "│ (<span style=\"color: #0087ff; text-decoration-color: #0087ff\">ResidualBlock</span>)                 │                        │               │\n",
              "├─────────────────────────────────┼────────────────────────┼───────────────┤\n",
              "│ residual_block_2                │ (<span style=\"color: #00d7ff; text-decoration-color: #00d7ff\">None</span>, <span style=\"color: #00af00; text-decoration-color: #00af00\">16</span>, <span style=\"color: #00af00; text-decoration-color: #00af00\">16</span>, <span style=\"color: #00af00; text-decoration-color: #00af00\">128</span>)    │        <span style=\"color: #00af00; text-decoration-color: #00af00\">53,504</span> │\n",
              "│ (<span style=\"color: #0087ff; text-decoration-color: #0087ff\">ResidualBlock</span>)                 │                        │               │\n",
              "├─────────────────────────────────┼────────────────────────┼───────────────┤\n",
              "│ residual_block_3                │ (<span style=\"color: #00d7ff; text-decoration-color: #00d7ff\">None</span>, <span style=\"color: #00af00; text-decoration-color: #00af00\">16</span>, <span style=\"color: #00af00; text-decoration-color: #00af00\">16</span>, <span style=\"color: #00af00; text-decoration-color: #00af00\">128</span>)    │        <span style=\"color: #00af00; text-decoration-color: #00af00\">53,504</span> │\n",
              "│ (<span style=\"color: #0087ff; text-decoration-color: #0087ff\">ResidualBlock</span>)                 │                        │               │\n",
              "├─────────────────────────────────┼────────────────────────┼───────────────┤\n",
              "│ residual_block_4                │ (<span style=\"color: #00d7ff; text-decoration-color: #00d7ff\">None</span>, <span style=\"color: #00af00; text-decoration-color: #00af00\">16</span>, <span style=\"color: #00af00; text-decoration-color: #00af00\">16</span>, <span style=\"color: #00af00; text-decoration-color: #00af00\">128</span>)    │        <span style=\"color: #00af00; text-decoration-color: #00af00\">53,504</span> │\n",
              "│ (<span style=\"color: #0087ff; text-decoration-color: #0087ff\">ResidualBlock</span>)                 │                        │               │\n",
              "├─────────────────────────────────┼────────────────────────┼───────────────┤\n",
              "│ masked_conv2d_6 (<span style=\"color: #0087ff; text-decoration-color: #0087ff\">MaskedConv2D</span>)  │ (<span style=\"color: #00d7ff; text-decoration-color: #00d7ff\">None</span>, <span style=\"color: #00af00; text-decoration-color: #00af00\">16</span>, <span style=\"color: #00af00; text-decoration-color: #00af00\">16</span>, <span style=\"color: #00af00; text-decoration-color: #00af00\">128</span>)    │        <span style=\"color: #00af00; text-decoration-color: #00af00\">16,512</span> │\n",
              "├─────────────────────────────────┼────────────────────────┼───────────────┤\n",
              "│ masked_conv2d_7 (<span style=\"color: #0087ff; text-decoration-color: #0087ff\">MaskedConv2D</span>)  │ (<span style=\"color: #00d7ff; text-decoration-color: #00d7ff\">None</span>, <span style=\"color: #00af00; text-decoration-color: #00af00\">16</span>, <span style=\"color: #00af00; text-decoration-color: #00af00\">16</span>, <span style=\"color: #00af00; text-decoration-color: #00af00\">128</span>)    │        <span style=\"color: #00af00; text-decoration-color: #00af00\">16,512</span> │\n",
              "├─────────────────────────────────┼────────────────────────┼───────────────┤\n",
              "│ conv2d_18 (<span style=\"color: #0087ff; text-decoration-color: #0087ff\">Conv2D</span>)              │ (<span style=\"color: #00d7ff; text-decoration-color: #00d7ff\">None</span>, <span style=\"color: #00af00; text-decoration-color: #00af00\">16</span>, <span style=\"color: #00af00; text-decoration-color: #00af00\">16</span>, <span style=\"color: #00af00; text-decoration-color: #00af00\">4</span>)      │           <span style=\"color: #00af00; text-decoration-color: #00af00\">516</span> │\n",
              "└─────────────────────────────────┴────────────────────────┴───────────────┘\n",
              "</pre>\n"
            ]
          },
          "metadata": {}
        },
        {
          "output_type": "display_data",
          "data": {
            "text/plain": [
              "\u001b[1m Total params: \u001b[0m\u001b[38;5;34m307,460\u001b[0m (1.17 MB)\n"
            ],
            "text/html": [
              "<pre style=\"white-space:pre;overflow-x:auto;line-height:normal;font-family:Menlo,'DejaVu Sans Mono',consolas,'Courier New',monospace\"><span style=\"font-weight: bold\"> Total params: </span><span style=\"color: #00af00; text-decoration-color: #00af00\">307,460</span> (1.17 MB)\n",
              "</pre>\n"
            ]
          },
          "metadata": {}
        },
        {
          "output_type": "display_data",
          "data": {
            "text/plain": [
              "\u001b[1m Trainable params: \u001b[0m\u001b[38;5;34m307,460\u001b[0m (1.17 MB)\n"
            ],
            "text/html": [
              "<pre style=\"white-space:pre;overflow-x:auto;line-height:normal;font-family:Menlo,'DejaVu Sans Mono',consolas,'Courier New',monospace\"><span style=\"font-weight: bold\"> Trainable params: </span><span style=\"color: #00af00; text-decoration-color: #00af00\">307,460</span> (1.17 MB)\n",
              "</pre>\n"
            ]
          },
          "metadata": {}
        },
        {
          "output_type": "display_data",
          "data": {
            "text/plain": [
              "\u001b[1m Non-trainable params: \u001b[0m\u001b[38;5;34m0\u001b[0m (0.00 B)\n"
            ],
            "text/html": [
              "<pre style=\"white-space:pre;overflow-x:auto;line-height:normal;font-family:Menlo,'DejaVu Sans Mono',consolas,'Courier New',monospace\"><span style=\"font-weight: bold\"> Non-trainable params: </span><span style=\"color: #00af00; text-decoration-color: #00af00\">0</span> (0.00 B)\n",
              "</pre>\n"
            ]
          },
          "metadata": {}
        }
      ]
    },
    {
      "cell_type": "code",
      "source": [
        "adam = optimizers.Adam(learning_rate=0.0005)\n",
        "pixel_cnn.compile(optimizer=adam, loss=\"sparse_categorical_crossentropy\")"
      ],
      "metadata": {
        "id": "F77zvyJUaQTU"
      },
      "execution_count": null,
      "outputs": []
    },
    {
      "cell_type": "code",
      "source": [
        "tensorboard_callback = callbacks.TensorBoard(log_dir=\"./logs\")\n",
        "\n",
        "\n",
        "class ImageGenerator(callbacks.Callback):\n",
        "    def __init__(self, num_img):\n",
        "        self.num_img = num_img\n",
        "\n",
        "    def sample_from(self, probs, temperature):  # <2>\n",
        "        probs = probs ** (1 / temperature)\n",
        "        probs = probs / np.sum(probs)\n",
        "        return np.random.choice(len(probs), p=probs)\n",
        "\n",
        "    def generate(self, temperature):\n",
        "        generated_images = np.zeros(\n",
        "            shape=(self.num_img,) + (pixel_cnn.input_shape)[1:]\n",
        "        )\n",
        "        batch, rows, cols, channels = generated_images.shape\n",
        "\n",
        "        for row in range(rows):\n",
        "            for col in range(cols):\n",
        "                for channel in range(channels):\n",
        "                    probs = self.model.predict(generated_images, verbose=0)[\n",
        "                        :, row, col, :\n",
        "                    ]\n",
        "                    generated_images[:, row, col, channel] = [\n",
        "                        self.sample_from(x, temperature) for x in probs\n",
        "                    ]\n",
        "                    generated_images[:, row, col, channel] /= PIXEL_LEVELS\n",
        "\n",
        "        return generated_images\n",
        "\n",
        "    def on_epoch_end(self, epoch, logs=None):\n",
        "        generated_images = self.generate(temperature=1.0)\n",
        "        display(\n",
        "            generated_images,\n",
        "            save_to=\"/content/images/generated_img_%03d.png\" % (epoch),\n",
        "        )\n",
        "\n",
        "\n",
        "img_generator_callback = ImageGenerator(num_img=10)"
      ],
      "metadata": {
        "id": "32v1RxVMaUbV"
      },
      "execution_count": null,
      "outputs": []
    },
    {
      "cell_type": "code",
      "source": [
        "!mkdir ./images"
      ],
      "metadata": {
        "id": "HDV11NrPdJgm"
      },
      "execution_count": null,
      "outputs": []
    },
    {
      "cell_type": "code",
      "source": [
        "pixel_cnn.fit(\n",
        "    input_data,\n",
        "    output_data,\n",
        "    batch_size=BATCH_SIZE,\n",
        "    epochs=EPOCHS,\n",
        "    callbacks=[tensorboard_callback, img_generator_callback],\n",
        ")"
      ],
      "metadata": {
        "colab": {
          "base_uri": "https://localhost:8080/",
          "height": 1975
        },
        "id": "XvaDxA75aWhX",
        "outputId": "3ddac93b-1ce9-489c-c681-91fb755eb4c2"
      },
      "execution_count": null,
      "outputs": [
        {
          "output_type": "stream",
          "name": "stdout",
          "text": [
            "Epoch 1/15\n",
            "\u001b[1m469/469\u001b[0m \u001b[32m━━━━━━━━━━━━━━━━━━━━\u001b[0m\u001b[37m\u001b[0m \u001b[1m0s\u001b[0m 31ms/step - loss: 0.6289\n",
            "Saved to /content/images/generated_img_000.png\n"
          ]
        },
        {
          "output_type": "display_data",
          "data": {
            "text/plain": [
              "<Figure size 2000x300 with 10 Axes>"
            ],
            "image/png": "[encoded data removed]"
          },
          "metadata": {}
        },
        {
          "output_type": "stream",
          "name": "stdout",
          "text": [
            "\b\b\b\b\b\b\b\b\b\b\b\b\b\b\b\b\b\b\b\b\b\b\b\b\b\b\b\b\b\b\b\b\b\b\b\b\b\b\b\b\b\b\b\b\b\b\b\b\b\b\b\b\b\b\b\b\r\u001b[1m469/469\u001b[0m \u001b[32m━━━━━━━━━━━━━━━━━━━━\u001b[0m\u001b[37m\u001b[0m \u001b[1m41s\u001b[0m 68ms/step - loss: 0.6286\n",
            "Epoch 2/15\n",
            "\u001b[1m469/469\u001b[0m \u001b[32m━━━━━━━━━━━━━━━━━━━━\u001b[0m\u001b[37m\u001b[0m \u001b[1m0s\u001b[0m 24ms/step - loss: 0.4056\n",
            "Saved to /content/images/generated_img_001.png\n"
          ]
        },
        {
          "output_type": "display_data",
          "data": {
            "text/plain": [
              "<Figure size 2000x300 with 10 Axes>"
            ],
            "image/png": "[encoded data removed]"
          },
          "metadata": {}
        },
        {
          "output_type": "stream",
          "name": "stdout",
          "text": [
            "\b\b\b\b\b\b\b\b\b\b\b\b\b\b\b\b\b\b\b\b\b\b\b\b\b\b\b\b\b\b\b\b\b\b\b\b\b\b\b\b\b\b\b\b\b\b\b\b\b\b\b\b\b\b\b\b\r\u001b[1m469/469\u001b[0m \u001b[32m━━━━━━━━━━━━━━━━━━━━\u001b[0m\u001b[37m\u001b[0m \u001b[1m30s\u001b[0m 64ms/step - loss: 0.4056\n",
            "Epoch 3/15\n",
            "\u001b[1m468/469\u001b[0m \u001b[32m━━━━━━━━━━━━━━━━━━━\u001b[0m\u001b[37m━\u001b[0m \u001b[1m0s\u001b[0m 24ms/step - loss: 0.3906\n",
            "Saved to /content/images/generated_img_002.png\n"
          ]
        },
        {
          "output_type": "display_data",
          "data": {
            "text/plain": [
              "<Figure size 2000x300 with 10 Axes>"
            ],
            "image/png": "[encoded data removed]"
          },
          "metadata": {}
        },
        {
          "output_type": "stream",
          "name": "stdout",
          "text": [
            "\b\b\b\b\b\b\b\b\b\b\b\b\b\b\b\b\b\b\b\b\b\b\b\b\b\b\b\b\b\b\b\b\b\b\b\b\b\b\b\b\b\b\b\b\b\b\b\b\b\b\b\b\b\b\b\b\r\u001b[1m469/469\u001b[0m \u001b[32m━━━━━━━━━━━━━━━━━━━━\u001b[0m\u001b[37m\u001b[0m \u001b[1m38s\u001b[0m 59ms/step - loss: 0.3905\n",
            "Epoch 4/15\n",
            "\u001b[1m468/469\u001b[0m \u001b[32m━━━━━━━━━━━━━━━━━━━\u001b[0m\u001b[37m━\u001b[0m \u001b[1m0s\u001b[0m 24ms/step - loss: 0.3824\n",
            "Saved to /content/images/generated_img_003.png\n"
          ]
        },
        {
          "output_type": "display_data",
          "data": {
            "text/plain": [
              "<Figure size 2000x300 with 10 Axes>"
            ],
            "image/png": "[encoded data removed]"
          },
          "metadata": {}
        },
        {
          "output_type": "stream",
          "name": "stdout",
          "text": [
            "\b\b\b\b\b\b\b\b\b\b\b\b\b\b\b\b\b\b\b\b\b\b\b\b\b\b\b\b\b\b\b\b\b\b\b\b\b\b\b\b\b\b\b\b\b\b\b\b\b\b\b\b\b\b\b\b\r\u001b[1m469/469\u001b[0m \u001b[32m━━━━━━━━━━━━━━━━━━━━\u001b[0m\u001b[37m\u001b[0m \u001b[1m28s\u001b[0m 59ms/step - loss: 0.3824\n",
            "Epoch 5/15\n",
            "\u001b[1m468/469\u001b[0m \u001b[32m━━━━━━━━━━━━━━━━━━━\u001b[0m\u001b[37m━\u001b[0m \u001b[1m0s\u001b[0m 24ms/step - loss: 0.3772\n",
            "Saved to /content/images/generated_img_004.png\n"
          ]
        },
        {
          "output_type": "display_data",
          "data": {
            "text/plain": [
              "<Figure size 2000x300 with 10 Axes>"
            ],
            "image/png": "[encoded data removed]"
          },
          "metadata": {}
        },
        {
          "output_type": "stream",
          "name": "stdout",
          "text": [
            "\b\b\b\b\b\b\b\b\b\b\b\b\b\b\b\b\b\b\b\b\b\b\b\b\b\b\b\b\b\b\b\b\b\b\b\b\b\b\b\b\b\b\b\b\b\b\b\b\b\b\b\b\b\b\b\b\r\u001b[1m469/469\u001b[0m \u001b[32m━━━━━━━━━━━━━━━━━━━━\u001b[0m\u001b[37m\u001b[0m \u001b[1m29s\u001b[0m 61ms/step - loss: 0.3772\n",
            "Epoch 6/15\n",
            "\u001b[1m469/469\u001b[0m \u001b[32m━━━━━━━━━━━━━━━━━━━━\u001b[0m\u001b[37m\u001b[0m \u001b[1m0s\u001b[0m 24ms/step - loss: 0.3726\n",
            "Saved to /content/images/generated_img_005.png\n"
          ]
        },
        {
          "output_type": "display_data",
          "data": {
            "text/plain": [
              "<Figure size 2000x300 with 10 Axes>"
            ],
            "image/png": "[encoded data removed]"
          },
          "metadata": {}
        },
        {
          "output_type": "stream",
          "name": "stdout",
          "text": [
            "\b\b\b\b\b\b\b\b\b\b\b\b\b\b\b\b\b\b\b\b\b\b\b\b\b\b\b\b\b\b\b\b\b\b\b\b\b\b\b\b\b\b\b\b\b\b\b\b\b\b\b\b\b\b\b\b\r\u001b[1m469/469\u001b[0m \u001b[32m━━━━━━━━━━━━━━━━━━━━\u001b[0m\u001b[37m\u001b[0m \u001b[1m28s\u001b[0m 60ms/step - loss: 0.3726\n",
            "Epoch 7/15\n",
            "\u001b[1m469/469\u001b[0m \u001b[32m━━━━━━━━━━━━━━━━━━━━\u001b[0m\u001b[37m\u001b[0m \u001b[1m0s\u001b[0m 24ms/step - loss: 0.3689\n",
            "Saved to /content/images/generated_img_006.png\n"
          ]
        },
        {
          "output_type": "display_data",
          "data": {
            "text/plain": [
              "<Figure size 2000x300 with 10 Axes>"
            ],
            "image/png": "[encoded data removed]"
          },
          "metadata": {}
        },
        {
          "output_type": "stream",
          "name": "stdout",
          "text": [
            "\b\b\b\b\b\b\b\b\b\b\b\b\b\b\b\b\b\b\b\b\b\b\b\b\b\b\b\b\b\b\b\b\b\b\b\b\b\b\b\b\b\b\b\b\b\b\b\b\b\b\b\b\b\b\b\b\r\u001b[1m469/469\u001b[0m \u001b[32m━━━━━━━━━━━━━━━━━━━━\u001b[0m\u001b[37m\u001b[0m \u001b[1m28s\u001b[0m 60ms/step - loss: 0.3689\n",
            "Epoch 8/15\n",
            "\u001b[1m468/469\u001b[0m \u001b[32m━━━━━━━━━━━━━━━━━━━\u001b[0m\u001b[37m━\u001b[0m \u001b[1m0s\u001b[0m 24ms/step - loss: 0.3645\n",
            "Saved to /content/images/generated_img_007.png\n"
          ]
        },
        {
          "output_type": "display_data",
          "data": {
            "text/plain": [
              "<Figure size 2000x300 with 10 Axes>"
            ],
            "image/png": "[encoded data removed]"
          },
          "metadata": {}
        },
        {
          "output_type": "stream",
          "name": "stdout",
          "text": [
            "\b\b\b\b\b\b\b\b\b\b\b\b\b\b\b\b\b\b\b\b\b\b\b\b\b\b\b\b\b\b\b\b\b\b\b\b\b\b\b\b\b\b\b\b\b\b\b\b\b\b\b\b\b\b\b\b\r\u001b[1m469/469\u001b[0m \u001b[32m━━━━━━━━━━━━━━━━━━━━\u001b[0m\u001b[37m\u001b[0m \u001b[1m30s\u001b[0m 64ms/step - loss: 0.3645\n",
            "Epoch 9/15\n",
            "\u001b[1m467/469\u001b[0m \u001b[32m━━━━━━━━━━━━━━━━━━━\u001b[0m\u001b[37m━\u001b[0m \u001b[1m0s\u001b[0m 25ms/step - loss: 0.3634\n",
            "Saved to /content/images/generated_img_008.png\n"
          ]
        },
        {
          "output_type": "display_data",
          "data": {
            "text/plain": [
              "<Figure size 2000x300 with 10 Axes>"
            ],
            "image/png": "[encoded data removed]"
          },
          "metadata": {}
        },
        {
          "output_type": "stream",
          "name": "stdout",
          "text": [
            "\b\b\b\b\b\b\b\b\b\b\b\b\b\b\b\b\b\b\b\b\b\b\b\b\b\b\b\b\b\b\b\b\b\b\b\b\b\b\b\b\b\b\b\b\b\b\b\b\b\b\b\b\b\b\b\b\r\u001b[1m469/469\u001b[0m \u001b[32m━━━━━━━━━━━━━━━━━━━━\u001b[0m\u001b[37m\u001b[0m \u001b[1m39s\u001b[0m 60ms/step - loss: 0.3634\n",
            "Epoch 10/15\n",
            "\u001b[1m468/469\u001b[0m \u001b[32m━━━━━━━━━━━━━━━━━━━\u001b[0m\u001b[37m━\u001b[0m \u001b[1m0s\u001b[0m 25ms/step - loss: 0.3612\n",
            "Saved to /content/images/generated_img_009.png\n"
          ]
        },
        {
          "output_type": "display_data",
          "data": {
            "text/plain": [
              "<Figure size 2000x300 with 10 Axes>"
            ],
            "image/png": "[encoded data removed]"
          },
          "metadata": {}
        },
        {
          "output_type": "stream",
          "name": "stdout",
          "text": [
            "\b\b\b\b\b\b\b\b\b\b\b\b\b\b\b\b\b\b\b\b\b\b\b\b\b\b\b\b\b\b\b\b\b\b\b\b\b\b\b\b\b\b\b\b\b\b\b\b\b\b\b\b\b\b\b\b\r\u001b[1m469/469\u001b[0m \u001b[32m━━━━━━━━━━━━━━━━━━━━\u001b[0m\u001b[37m\u001b[0m \u001b[1m29s\u001b[0m 61ms/step - loss: 0.3612\n",
            "Epoch 11/15\n",
            "\u001b[1m467/469\u001b[0m \u001b[32m━━━━━━━━━━━━━━━━━━━\u001b[0m\u001b[37m━\u001b[0m \u001b[1m0s\u001b[0m 24ms/step - loss: 0.3588\n",
            "Saved to /content/images/generated_img_010.png\n"
          ]
        },
        {
          "output_type": "display_data",
          "data": {
            "text/plain": [
              "<Figure size 2000x300 with 10 Axes>"
            ],
            "image/png": "[encoded data removed]"
          },
          "metadata": {}
        },
        {
          "output_type": "stream",
          "name": "stdout",
          "text": [
            "\b\b\b\b\b\b\b\b\b\b\b\b\b\b\b\b\b\b\b\b\b\b\b\b\b\b\b\b\b\b\b\b\b\b\b\b\b\b\b\b\b\b\b\b\b\b\b\b\b\b\b\b\b\b\b\b\r\u001b[1m469/469\u001b[0m \u001b[32m━━━━━━━━━━━━━━━━━━━━\u001b[0m\u001b[37m\u001b[0m \u001b[1m28s\u001b[0m 59ms/step - loss: 0.3588\n",
            "Epoch 12/15\n",
            "\u001b[1m467/469\u001b[0m \u001b[32m━━━━━━━━━━━━━━━━━━━\u001b[0m\u001b[37m━\u001b[0m \u001b[1m0s\u001b[0m 25ms/step - loss: 0.3576\n",
            "Saved to /content/images/generated_img_011.png\n"
          ]
        },
        {
          "output_type": "display_data",
          "data": {
            "text/plain": [
              "<Figure size 2000x300 with 10 Axes>"
            ],
            "image/png": "[encoded data removed]"
          },
          "metadata": {}
        },
        {
          "output_type": "stream",
          "name": "stdout",
          "text": [
            "\b\b\b\b\b\b\b\b\b\b\b\b\b\b\b\b\b\b\b\b\b\b\b\b\b\b\b\b\b\b\b\b\b\b\b\b\b\b\b\b\b\b\b\b\b\b\b\b\b\b\b\b\b\b\b\b\r\u001b[1m469/469\u001b[0m \u001b[32m━━━━━━━━━━━━━━━━━━━━\u001b[0m\u001b[37m\u001b[0m \u001b[1m28s\u001b[0m 59ms/step - loss: 0.3576\n",
            "Epoch 13/15\n",
            "\u001b[1m468/469\u001b[0m \u001b[32m━━━━━━━━━━━━━━━━━━━\u001b[0m\u001b[37m━\u001b[0m \u001b[1m0s\u001b[0m 25ms/step - loss: 0.3561\n",
            "Saved to /content/images/generated_img_012.png\n"
          ]
        },
        {
          "output_type": "display_data",
          "data": {
            "text/plain": [
              "<Figure size 2000x300 with 10 Axes>"
            ],
            "image/png": "[encoded data removed]"
          },
          "metadata": {}
        },
        {
          "output_type": "stream",
          "name": "stdout",
          "text": [
            "\b\b\b\b\b\b\b\b\b\b\b\b\b\b\b\b\b\b\b\b\b\b\b\b\b\b\b\b\b\b\b\b\b\b\b\b\b\b\b\b\b\b\b\b\b\b\b\b\b\b\b\b\b\b\b\b\r\u001b[1m469/469\u001b[0m \u001b[32m━━━━━━━━━━━━━━━━━━━━\u001b[0m\u001b[37m\u001b[0m \u001b[1m28s\u001b[0m 60ms/step - loss: 0.3561\n",
            "Epoch 14/15\n",
            "\u001b[1m467/469\u001b[0m \u001b[32m━━━━━━━━━━━━━━━━━━━\u001b[0m\u001b[37m━\u001b[0m \u001b[1m0s\u001b[0m 24ms/step - loss: 0.3548\n",
            "Saved to /content/images/generated_img_013.png\n"
          ]
        },
        {
          "output_type": "display_data",
          "data": {
            "text/plain": [
              "<Figure size 2000x300 with 10 Axes>"
            ],
            "image/png": "[encoded data removed]"
          },
          "metadata": {}
        },
        {
          "output_type": "stream",
          "name": "stdout",
          "text": [
            "\b\b\b\b\b\b\b\b\b\b\b\b\b\b\b\b\b\b\b\b\b\b\b\b\b\b\b\b\b\b\b\b\b\b\b\b\b\b\b\b\b\b\b\b\b\b\b\b\b\b\b\b\b\b\b\b\r\u001b[1m469/469\u001b[0m \u001b[32m━━━━━━━━━━━━━━━━━━━━\u001b[0m\u001b[37m\u001b[0m \u001b[1m28s\u001b[0m 60ms/step - loss: 0.3548\n",
            "Epoch 15/15\n",
            "\u001b[1m469/469\u001b[0m \u001b[32m━━━━━━━━━━━━━━━━━━━━\u001b[0m\u001b[37m\u001b[0m \u001b[1m0s\u001b[0m 25ms/step - loss: 0.3532\n",
            "Saved to /content/images/generated_img_014.png\n"
          ]
        },
        {
          "output_type": "display_data",
          "data": {
            "text/plain": [
              "<Figure size 2000x300 with 10 Axes>"
            ],
            "image/png": "[encoded data removed]"
          },
          "metadata": {}
        },
        {
          "output_type": "stream",
          "name": "stdout",
          "text": [
            "\b\b\b\b\b\b\b\b\b\b\b\b\b\b\b\b\b\b\b\b\b\b\b\b\b\b\b\b\b\b\b\b\b\b\b\b\b\b\b\b\b\b\b\b\b\b\b\b\b\b\b\b\b\b\b\b\r\u001b[1m469/469\u001b[0m \u001b[32m━━━━━━━━━━━━━━━━━━━━\u001b[0m\u001b[37m\u001b[0m \u001b[1m41s\u001b[0m 61ms/step - loss: 0.3532\n"
          ]
        },
        {
          "output_type": "execute_result",
          "data": {
            "text/plain": [
              "<keras.src.callbacks.history.History at 0x7dbc8f5088f0>"
            ]
          },
          "metadata": {},
          "execution_count": 13
        }
      ]
    }
  ]
}