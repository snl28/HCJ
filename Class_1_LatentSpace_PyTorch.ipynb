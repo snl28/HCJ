{
  "nbformat": 4,
  "nbformat_minor": 0,
  "metadata": {
    "colab": {
      "provenance": [],
      "gpuType": "T4",
      "include_colab_link": true
    },
    "kernelspec": {
      "name": "python3",
      "display_name": "Python 3"
    },
    "language_info": {
      "name": "python"
    },
    "accelerator": "GPU"
  },
  "cells": [
    {
      "cell_type": "markdown",
      "metadata": {
        "id": "view-in-github",
        "colab_type": "text"
      },
      "source": [
        "<a href=\"https://colab.research.google.com/github/snl28/HCJ/blob/main/Class_1_LatentSpace_PyTorch.ipynb\" target=\"_parent\"><img src=\"https://colab.research.google.com/assets/colab-badge.svg\" alt=\"Open In Colab\"/></a>"
      ]
    },
    {
      "cell_type": "markdown",
      "source": [
        "# Name: Sunil John\n",
        "## SEAS 8525 Computer Vision and Generative AI\n",
        "## Homework 1\n",
        "\n",
        "The notebook implements an autoencoder using PyTorch on the MNIST dataset. The encoder compresses each 28×28 grayscale digit image into a smaller latent representation, while the decoder reconstructs the original image from this compressed form. The training loop minimizes reconstruction loss, teaching the model to capture meaningful features in the latent space. After training,\n",
        "the notebook visualizes both original and reconstructed digits, while fine details may blur slightly, the autoencoder effectively preserves the overall digit structure, proving that the latent space captures essential information. This latent representation is then printed and explored, showing that the model can meaningfully encode high-dimensional image data into compact vectors, where similar digits cluster together in the learned space.\n",
        "\n",
        "The notebook results include both original images from MNIST and their reconstructed versions. Only see the original MNIST images, but not the reconstructed outputs from the autoencoder. At the visualization stage, the code plots only the original batch of images using imshow(vutils.make_grid()), but the part that should pass images through the trained autoencoder\n",
        "and then display the reconstructions is missing?"
      ],
      "metadata": {
        "id": "q_25q2eEkFe6"
      }
    },
    {
      "cell_type": "markdown",
      "source": [
        "The provided code defines and utilizes an Autoencoder neural network for the MNIST dataset. Here's a detailed explanation:\n",
        "\n",
        "- **Autoencoder Class**: This class creates a neural network with encoder and decoder components. The encoder compresses the input image into a lower-dimensional latent space, and the decoder reconstructs the image from this latent space. The network is structured to flatten and process 28x28 grayscale MNIST images.\n",
        "\n",
        "- **Data Loading**: Utilizes PyTorch's DataLoader to efficiently load the MNIST dataset, applying transformations to normalize the images.\n",
        "\n",
        "- **Training Loop**: Iterates over the training dataset, feeding batches of images through the model, calculating the reconstruction loss, and updating the model's weights to minimize this loss, effectively learning to compress and reconstruct the input images.\n",
        "\n",
        "- **Visualization**: After training, the script visualizes a batch of original images and their reconstructions from the autoencoder. It also prints the latent space representations, showcasing what the model has learned to encode.\n",
        "\n",
        "- **Utility Functions**: Includes `imshow` for displaying tensors as images. It unnormalizes the data and uses Matplotlib to plot them.\n",
        "\n",
        "This script encapsulates the end-to-end process of training an autoencoder on the MNIST dataset, visualizing the results, and examining the learned latent space."
      ],
      "metadata": {
        "id": "MXble1sY6GuN"
      }
    },
    {
      "cell_type": "code",
      "source": [
        "import torch\n",
        "import torch.nn as nn\n",
        "import torchvision\n",
        "import torchvision.transforms as transforms\n",
        "from torchvision.datasets import MNIST\n",
        "from torch.utils.data import DataLoader\n",
        "import matplotlib.pyplot as plt\n",
        "import torchvision.utils as vutils\n",
        "import numpy as np\n",
        "from torch.cuda.amp import GradScaler, autocast"
      ],
      "metadata": {
        "id": "QTp8sYxwBg-1"
      },
      "execution_count": 1,
      "outputs": []
    },
    {
      "cell_type": "markdown",
      "source": [
        " The `Autoencoder` class inherits from `nn.Module`, a base class for all neural network modules in PyTorch. Here's a breakdown of the code and its functionality:\n",
        "\n",
        "### Initialization Method (`__init__`)\n",
        "- **Parameters**: The `__init__` method accepts a single parameter `encoding_dim`, which specifies the size of the latent space where the input data is compressed.\n",
        "- **Encoder**: The encoder part of the autoencoder is designed to compress the input data (in this case, an image) into a lower-dimensional representation called the latent space. It consists of a sequence of layers:\n",
        "  - `nn.Linear(28 * 28, 128)`: This layer flattens the input image (assumed to be 28x28 pixels, typical for MNIST dataset images) into a one-dimensional array and performs a linear transformation to reduce its dimension to 128.\n",
        "  - `nn.ReLU(True)`: A Rectified Linear Unit (ReLU) activation function is applied to introduce non-linearity, helping the model learn complex patterns.\n",
        "  - Another `nn.Linear(128, encoding_dim)`: Further reduces the dimension from 128 to the specified `encoding_dim`.\n",
        "  - Another `nn.ReLU(True)`: Another ReLU activation for non-linearity.\n",
        "- **Decoder**: The decoder part reconstructs the original input data from the compressed representation. It mirrors the encoder structure but in reverse, aiming to expand the compressed data back to its original shape:\n",
        "  - `nn.Linear(encoding_dim, 128)`: Expands the compressed data from `encoding_dim` back to 128.\n",
        "  - `nn.ReLU(True)`: Applies ReLU activation.\n",
        "  - `nn.Linear(128, 28 * 28)`: Transforms the data from 128 back to the flattened image size of 784 (28x28).\n",
        "  - `nn.Sigmoid()`: Applies a sigmoid activation function to ensure the output values are between 0 and 1, suitable for image data where pixel values typically fall within this range.\n",
        "\n",
        "### Forward Method (`forward`)\n",
        "- **Parameter**: The `forward` method defines how the input `x` flows through the network.\n",
        "- **Process**:\n",
        "  - `x.view(-1, 28*28)`: First, the input `x` is reshaped into a one-dimensional array (flattened) if not already done.\n",
        "  - `self.encoder(x)`: The flattened `x` is then passed through the encoder.\n",
        "  - `self.decoder(x)`: The output from the encoder, which is the compressed representation, is fed into the decoder.\n",
        "- **Output**: The final output is reshaped back to the original image dimensions (`-1, 1, 28, 28`), where `-1` is a placeholder that automatically adjusts based on the batch size.\n"
      ],
      "metadata": {
        "id": "Lth1Gula4Sz_"
      }
    },
    {
      "cell_type": "code",
      "source": [
        "class Autoencoder(nn.Module):\n",
        "    def __init__(self, encoding_dim):\n",
        "        super(Autoencoder, self).__init__()\n",
        "        # Encoder: compresses the image into a lower-dimensional latent space\n",
        "        self.encoder = nn.Sequential(\n",
        "            nn.Linear(28 * 28, 128),  # Flatten the image and then linearly transform it\n",
        "            nn.ReLU(True),  # Non-linear activation function\n",
        "            nn.Linear(128, encoding_dim),  # Linear transformation to the encoding dimension\n",
        "            nn.ReLU(True)  # Non-linear activation function\n",
        "        )\n",
        "        # Decoder: reconstructs the image from the latent space\n",
        "        self.decoder = nn.Sequential(\n",
        "            nn.Linear(encoding_dim, 128),  # Linearly transforms the encoding\n",
        "            nn.ReLU(True),  # Non-linear activation function\n",
        "            nn.Linear(128, 28 * 28),  # Transforms back to original image shape\n",
        "            nn.Sigmoid()  # Sigmoid activation to output values between 0 and 1\n",
        "        )\n",
        "\n",
        "    def forward(self, x):\n",
        "        x = self.encoder(x.view(-1, 28*28))  # Encode the input image\n",
        "        x = self.decoder(x)  # Decode the encoded image\n",
        "        return x.view(-1, 1, 28, 28)  # Reshape to the original image dimensions"
      ],
      "metadata": {
        "id": "wWlX07fEBjL8"
      },
      "execution_count": 2,
      "outputs": []
    },
    {
      "cell_type": "code",
      "source": [
        "\n",
        "def imshow(img):\n",
        "    img = img.cpu() / 2 + 0.5  # Unnormalize the image\n",
        "    npimg = img.numpy()  # Convert the tensor to a numpy array\n",
        "    plt.imshow(np.transpose(npimg, (1, 2, 0)))  # Reshape and display the image\n",
        "    plt.show()"
      ],
      "metadata": {
        "id": "yP7S8PazBoD5"
      },
      "execution_count": 3,
      "outputs": []
    },
    {
      "cell_type": "code",
      "source": [
        "# Transform: converts images to PyTorch tensors and normalizes them\n",
        "transform = transforms.Compose([\n",
        "    transforms.ToTensor(),\n",
        "    transforms.Normalize((0.5,), (0.5,))\n",
        "])\n"
      ],
      "metadata": {
        "id": "yJAgqh0TBrMa"
      },
      "execution_count": 4,
      "outputs": []
    },
    {
      "cell_type": "code",
      "source": [
        "# MNIST dataset loading\n",
        "train_dataset = MNIST(root='./data', train=True, download=True, transform=transform)\n",
        "train_loader = DataLoader(dataset=train_dataset, batch_size=64, shuffle=True)"
      ],
      "metadata": {
        "id": "cQpswSgnBw4E",
        "outputId": "44b711f1-e15d-4e6f-e24f-85264de45111",
        "colab": {
          "base_uri": "https://localhost:8080/",
          "height": 0
        }
      },
      "execution_count": 5,
      "outputs": [
        {
          "output_type": "stream",
          "name": "stderr",
          "text": [
            "100%|██████████| 9.91M/9.91M [00:01<00:00, 5.03MB/s]\n",
            "100%|██████████| 28.9k/28.9k [00:00<00:00, 133kB/s]\n",
            "100%|██████████| 1.65M/1.65M [00:01<00:00, 1.26MB/s]\n",
            "100%|██████████| 4.54k/4.54k [00:00<00:00, 7.18MB/s]\n"
          ]
        }
      ]
    },
    {
      "cell_type": "code",
      "source": [
        "device = torch.device(\"cuda\" if torch.cuda.is_available() else \"cpu\")\n",
        "model = Autoencoder(encoding_dim=64).to(device)\n",
        "criterion = nn.MSELoss()  # Loss function\n",
        "optimizer = torch.optim.Adam(model.parameters(), lr=1e-3)  # Optimizer"
      ],
      "metadata": {
        "id": "W8NemtCtB35p"
      },
      "execution_count": 6,
      "outputs": []
    },
    {
      "cell_type": "code",
      "source": [
        "# Training loop\n",
        "num_epochs = 10\n",
        "scaler = GradScaler()\n",
        "\n",
        "for epoch in range(num_epochs):\n",
        "    for data in train_loader:\n",
        "        img, _ = data\n",
        "        img = img.to(device)\n",
        "\n",
        "        with autocast():\n",
        "            output = model(img)\n",
        "            loss = criterion(output, img)\n",
        "\n",
        "        optimizer.zero_grad()\n",
        "        scaler.scale(loss).backward()\n",
        "        scaler.step(optimizer)\n",
        "        scaler.update()\n",
        "    print('Epoch [{}/{}], Loss:{:.4f}'.format(epoch+1, num_epochs, loss.item()))\n",
        "\n",
        "\n"
      ],
      "metadata": {
        "colab": {
          "base_uri": "https://localhost:8080/",
          "height": 0
        },
        "id": "GRk72snY6LPD",
        "outputId": "1eb099ef-1711-4d1c-bdb7-a92de2a93cfc"
      },
      "execution_count": 7,
      "outputs": [
        {
          "output_type": "stream",
          "name": "stderr",
          "text": [
            "/tmp/ipython-input-1361577664.py:3: FutureWarning: `torch.cuda.amp.GradScaler(args...)` is deprecated. Please use `torch.amp.GradScaler('cuda', args...)` instead.\n",
            "  scaler = GradScaler()\n",
            "/tmp/ipython-input-1361577664.py:10: FutureWarning: `torch.cuda.amp.autocast(args...)` is deprecated. Please use `torch.amp.autocast('cuda', args...)` instead.\n",
            "  with autocast():\n"
          ]
        },
        {
          "output_type": "stream",
          "name": "stdout",
          "text": [
            "Epoch [1/10], Loss:0.9246\n",
            "Epoch [2/10], Loss:0.9256\n",
            "Epoch [3/10], Loss:0.9281\n",
            "Epoch [4/10], Loss:0.9241\n",
            "Epoch [5/10], Loss:0.9301\n",
            "Epoch [6/10], Loss:0.9283\n",
            "Epoch [7/10], Loss:0.9255\n",
            "Epoch [8/10], Loss:0.9259\n",
            "Epoch [9/10], Loss:0.9232\n",
            "Epoch [10/10], Loss:0.9259\n"
          ]
        }
      ]
    },
    {
      "cell_type": "code",
      "source": [
        "# Visualization of the original and reconstructed images\n",
        "dataiter = iter(train_loader)\n",
        "images, _ = next(dataiter)\n",
        "images = images.to(device)\n",
        "\n",
        "# Display original images\n",
        "print(\"Original Images\")\n",
        "imshow(vutils.make_grid(images[:4], normalize=True))\n",
        "\n",
        "# Encoded and decoded images\n",
        "with torch.no_grad():\n",
        "    encoded_imgs = model.encoder(images.view(-1, 28*28)[:4])\n",
        "    decoded_imgs = model.decoder(encoded_imgs).view(-1, 1, 28, 28)\n",
        "\n",
        "\n",
        "# Display reconstructed images\n",
        "print(\"Original Representation\")\n",
        "print(img)\n",
        "\n",
        "# Print latent space\n",
        "print(\"Latent space representations:\")\n",
        "print(encoded_imgs)"
      ],
      "metadata": {
        "colab": {
          "base_uri": "https://localhost:8080/",
          "height": 1774
        },
        "id": "FCsJeFk2B2Fi",
        "outputId": "c5f4bc33-b713-40d2-8347-86dbdbce668b"
      },
      "execution_count": 8,
      "outputs": [
        {
          "output_type": "stream",
          "name": "stdout",
          "text": [
            "Original Images\n"
          ]
        },
        {
          "output_type": "display_data",
          "data": {
            "text/plain": [
              "<Figure size 640x480 with 1 Axes>"
            ],
            "image/png": "[encoded data removed]"
          },
          "metadata": {}
        },
        {
          "output_type": "stream",
          "name": "stdout",
          "text": [
            "Original Representation\n",
            "tensor([[[[-1., -1., -1.,  ..., -1., -1., -1.],\n",
            "          [-1., -1., -1.,  ..., -1., -1., -1.],\n",
            "          [-1., -1., -1.,  ..., -1., -1., -1.],\n",
            "          ...,\n",
            "          [-1., -1., -1.,  ..., -1., -1., -1.],\n",
            "          [-1., -1., -1.,  ..., -1., -1., -1.],\n",
            "          [-1., -1., -1.,  ..., -1., -1., -1.]]],\n",
            "\n",
            "\n",
            "        [[[-1., -1., -1.,  ..., -1., -1., -1.],\n",
            "          [-1., -1., -1.,  ..., -1., -1., -1.],\n",
            "          [-1., -1., -1.,  ..., -1., -1., -1.],\n",
            "          ...,\n",
            "          [-1., -1., -1.,  ..., -1., -1., -1.],\n",
            "          [-1., -1., -1.,  ..., -1., -1., -1.],\n",
            "          [-1., -1., -1.,  ..., -1., -1., -1.]]],\n",
            "\n",
            "\n",
            "        [[[-1., -1., -1.,  ..., -1., -1., -1.],\n",
            "          [-1., -1., -1.,  ..., -1., -1., -1.],\n",
            "          [-1., -1., -1.,  ..., -1., -1., -1.],\n",
            "          ...,\n",
            "          [-1., -1., -1.,  ..., -1., -1., -1.],\n",
            "          [-1., -1., -1.,  ..., -1., -1., -1.],\n",
            "          [-1., -1., -1.,  ..., -1., -1., -1.]]],\n",
            "\n",
            "\n",
            "        ...,\n",
            "\n",
            "\n",
            "        [[[-1., -1., -1.,  ..., -1., -1., -1.],\n",
            "          [-1., -1., -1.,  ..., -1., -1., -1.],\n",
            "          [-1., -1., -1.,  ..., -1., -1., -1.],\n",
            "          ...,\n",
            "          [-1., -1., -1.,  ..., -1., -1., -1.],\n",
            "          [-1., -1., -1.,  ..., -1., -1., -1.],\n",
            "          [-1., -1., -1.,  ..., -1., -1., -1.]]],\n",
            "\n",
            "\n",
            "        [[[-1., -1., -1.,  ..., -1., -1., -1.],\n",
            "          [-1., -1., -1.,  ..., -1., -1., -1.],\n",
            "          [-1., -1., -1.,  ..., -1., -1., -1.],\n",
            "          ...,\n",
            "          [-1., -1., -1.,  ..., -1., -1., -1.],\n",
            "          [-1., -1., -1.,  ..., -1., -1., -1.],\n",
            "          [-1., -1., -1.,  ..., -1., -1., -1.]]],\n",
            "\n",
            "\n",
            "        [[[-1., -1., -1.,  ..., -1., -1., -1.],\n",
            "          [-1., -1., -1.,  ..., -1., -1., -1.],\n",
            "          [-1., -1., -1.,  ..., -1., -1., -1.],\n",
            "          ...,\n",
            "          [-1., -1., -1.,  ..., -1., -1., -1.],\n",
            "          [-1., -1., -1.,  ..., -1., -1., -1.],\n",
            "          [-1., -1., -1.,  ..., -1., -1., -1.]]]], device='cuda:0')\n",
            "Latent space representations:\n",
            "tensor([[ 0.0000, 36.8787, 14.5452,  0.0000,  0.0000, 19.2876,  0.0000, 26.2193,\n",
            "          0.0000, 22.4879, 15.3667, 22.2348, 15.2263,  0.0000,  0.0000,  0.0000,\n",
            "         16.2026, 18.6222, 25.2477,  0.0000,  0.0000, 34.2792, 14.1358, 11.0880,\n",
            "          0.0000,  0.0000, 20.5797,  0.0000, 25.7367, 20.9227, 34.8810, 21.3018,\n",
            "         35.7016, 18.9796, 12.6803,  0.0000,  0.0000, 38.8197,  0.0000,  0.0000,\n",
            "          0.0000, 31.4167,  0.0000,  0.0000,  0.0000,  0.0000,  0.0000,  0.0000,\n",
            "         25.5371,  0.0000, 24.3165, 22.0938, 15.7670, 20.5714, 29.2549,  0.0000,\n",
            "          0.0000,  0.0000,  0.0000,  7.2114,  0.0000,  0.0000,  0.0000, 20.7784],\n",
            "        [ 0.0000, 31.9996, 12.5971,  0.0000,  0.0000, 16.9673,  0.0000, 22.9119,\n",
            "          0.0000, 19.7336, 13.0462, 19.1570, 13.1414,  0.0000,  0.0000,  0.0000,\n",
            "         14.1863, 16.1093, 21.9688,  0.0000,  0.0000, 30.2127, 12.4355,  9.6412,\n",
            "          0.0000,  0.0000, 18.0252,  0.0000, 22.2435, 18.2813, 30.4479, 18.6235,\n",
            "         31.1857, 16.2387, 10.8527,  0.0000,  0.0000, 34.0336,  0.0000,  0.0000,\n",
            "          0.0000, 27.4543,  0.0000,  0.0000,  0.0000,  0.0000,  0.0000,  0.0000,\n",
            "         22.4697,  0.0000, 21.1173, 19.2623, 13.6780, 18.1651, 25.4351,  0.0000,\n",
            "          0.0000,  0.0000,  0.0000,  6.2782,  0.0000,  0.0000,  0.0000, 18.0007],\n",
            "        [ 0.0000, 29.5319, 11.8775,  0.0000,  0.0000, 15.5231,  0.0000, 21.1250,\n",
            "          0.0000, 18.3468, 12.0059, 17.8108, 11.8743,  0.0000,  0.0000,  0.0000,\n",
            "         13.2810, 15.0098, 20.0614,  0.0000,  0.0000, 27.7390, 11.5632,  8.7827,\n",
            "          0.0000,  0.0000, 16.4144,  0.0000, 20.5902, 16.7881, 27.8113, 17.0357,\n",
            "         28.6836, 14.8960,  9.9090,  0.0000,  0.0000, 31.6561,  0.0000,  0.0000,\n",
            "          0.0000, 25.3540,  0.0000,  0.0000,  0.0000,  0.0000,  0.0000,  0.0000,\n",
            "         20.4351,  0.0000, 19.3179, 17.7818, 12.3704, 17.1952, 23.4062,  0.0000,\n",
            "          0.0000,  0.0000,  0.0000,  5.8770,  0.0000,  0.0000,  0.0000, 16.6388],\n",
            "        [ 0.0000, 34.8779, 14.1931,  0.0000,  0.0000, 18.2819,  0.0000, 24.5706,\n",
            "          0.0000, 21.6692, 14.3557, 21.2289, 14.3991,  0.0000,  0.0000,  0.0000,\n",
            "         15.5324, 17.7112, 23.9846,  0.0000,  0.0000, 32.5118, 13.3064, 10.3476,\n",
            "          0.0000,  0.0000, 19.4618,  0.0000, 24.4724, 20.0635, 33.1188, 20.1597,\n",
            "         34.0384, 18.0849, 11.7530,  0.0000,  0.0000, 37.0561,  0.0000,  0.0000,\n",
            "          0.0000, 29.6075,  0.0000,  0.0000,  0.0000,  0.0000,  0.0000,  0.0000,\n",
            "         24.1105,  0.0000, 23.0388, 20.9278, 14.6538, 19.7114, 27.6357,  0.0000,\n",
            "          0.0000,  0.0000,  0.0000,  6.7961,  0.0000,  0.0000,  0.0000, 19.5962]],\n",
            "       device='cuda:0')\n"
          ]
        }
      ]
    }
  ]
}